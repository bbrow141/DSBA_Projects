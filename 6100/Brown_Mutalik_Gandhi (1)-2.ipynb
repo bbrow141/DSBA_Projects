{
 "cells": [
  {
   "cell_type": "code",
   "execution_count": 2,
   "metadata": {},
   "outputs": [],
   "source": [
    "import numpy as np\n",
    "import pandas as pd\n",
    "from sklearn import linear_model\n",
    "from sklearn import preprocessing\n",
    "from sklearn.linear_model import Ridge, RidgeCV, LassoCV\n",
    "from numpy import array\n",
    "from numpy import argmax\n",
    "from math import sqrt\n",
    "from sklearn.metrics import mean_squared_error"
   ]
  },
  {
   "cell_type": "code",
   "execution_count": 5,
   "metadata": {},
   "outputs": [
    {
     "name": "stdout",
     "output_type": "stream",
     "text": [
      "  month  attend day_of_week  temp   skies bobblehead\n",
      "0   AUG   36878      Monday    80  Clear          NO\n",
      "1   AUG   40284    Saturday    70  Clear          NO\n",
      "2   AUG   55024     Tuesday    80  Clear         YES\n",
      "3   APR   26376      Monday    60  Cloudy         NO\n",
      "4   AUG   37084   Wednesday    84  Clear          NO\n"
     ]
    }
   ],
   "source": [
    "# read traning and testing data\n",
    "pd_training_data = pd.read_csv(\"dodgers_training (1).csv\")\n",
    "\n",
    "pd_testing_data=pd.read_csv(\"dodgers_testing (1).csv\")\n",
    "\n",
    "pd_train=pd_training_data[[\"month\",\"attend\",\"day_of_week\",\"temp\",\"skies\",\"bobblehead\"]]\n",
    "\n",
    "pd_test=pd_testing_data[[\"month\",\"attend\",\"day_of_week\",\"temp\",\"skies\",\"bobblehead\"]]\n",
    "print(pd_train.head())"
   ]
  },
  {
   "cell_type": "code",
   "execution_count": 6,
   "metadata": {},
   "outputs": [
    {
     "name": "stdout",
     "output_type": "stream",
     "text": [
      "  month  attend day_of_week  temp bobblehead  Clear   Cloudy\n",
      "0   AUG   36878      Monday    80         NO       1       0\n",
      "1   AUG   40284    Saturday    70         NO       1       0\n",
      "2   AUG   55024     Tuesday    80        YES       1       0\n",
      "3   APR   26376      Monday    60         NO       0       1\n",
      "4   AUG   37084   Wednesday    84         NO       1       0\n",
      "  month  attend day_of_week  temp bobblehead  Clear   Cloudy\n",
      "0   AUG   40173   Wednesday    75         NO       1       0\n",
      "1   JUN   45210    Saturday    68         NO       1       0\n",
      "2   AUG   32659      Monday    79         NO       1       0\n",
      "3   JUN   55279     Tuesday    66        YES       0       1\n",
      "4   JUL   55359      Sunday    75        YES       1       0\n"
     ]
    }
   ],
   "source": [
    "#one hot encoding for skies\n",
    "training_skies=pd.get_dummies(pd_train['skies'])\n",
    "pd_train=pd_train.drop('skies',axis=1)\n",
    "pd_train=pd_train.join(training_skies)\n",
    "\n",
    "testing_skies=pd.get_dummies(pd_test['skies'])\n",
    "pd_test=pd_test.drop('skies',axis=1)\n",
    "pd_test=pd_test.join(testing_skies)\n",
    "\n",
    "print(pd_train.head())\n",
    "print(pd_test.head())"
   ]
  },
  {
   "cell_type": "code",
   "execution_count": 7,
   "metadata": {},
   "outputs": [],
   "source": [
    "#one hot encoding for skies for month\n",
    "training_month=pd.get_dummies(pd_train['month'])\n",
    "pd_train=pd_train.drop('month',axis=1)\n",
    "pd_train=pd_train.join(training_month)\n",
    "\n",
    "\n",
    "test_month=pd.get_dummies(pd_test['month'])\n",
    "pd_test=pd_test.drop('month',axis=1)\n",
    "pd_test=pd_test.join(test_month)\n"
   ]
  },
  {
   "cell_type": "code",
   "execution_count": 8,
   "metadata": {},
   "outputs": [],
   "source": [
    "#one hot encoding for skies for days of week\n",
    "training_day_of_week=pd.get_dummies(pd_train['day_of_week'])\n",
    "pd_train=pd_train.drop('day_of_week',axis=1)\n",
    "pd_train=pd_train.join(training_day_of_week)\n",
    "\n",
    "test_day_of_week=pd.get_dummies(pd_test['day_of_week'])\n",
    "pd_test=pd_test.drop('day_of_week',axis=1)\n",
    "pd_test=pd_test.join(test_day_of_week)\n",
    " \n"
   ]
  },
  {
   "cell_type": "code",
   "execution_count": 9,
   "metadata": {},
   "outputs": [],
   "source": [
    "#one hot encoding for skies for days of bobblehead\n",
    "train_bobblehead=pd.get_dummies(pd_train['bobblehead'])\n",
    "pd_train=pd_train.drop('bobblehead',axis=1)\n",
    "pd_train=pd_train.join(train_bobblehead)\n",
    "\n",
    "\n",
    "test_bobblehead=pd.get_dummies(pd_test['bobblehead'])\n",
    "pd_test=pd_test.drop('bobblehead',axis=1)\n",
    "pd_test=pd_test.join(test_bobblehead)\n",
    "\n",
    "\n"
   ]
  },
  {
   "cell_type": "code",
   "execution_count": 10,
   "metadata": {},
   "outputs": [],
   "source": [
    "# training dataset\n",
    "X_pd_train = pd_train.iloc[0:,1:]\n",
    "Y_pd_train = pd_train.iloc[0:,0:1]\n",
    "\n",
    "#testing dataset\n",
    "X_pd_test = pd_test.iloc[0:,1:]\n",
    "Y_pd_test = pd_test.iloc[0:,0:1]\n",
    "\n",
    "X_pd_test['Thursday']=0\n",
    "\n",
    "#rearranging columns in testing dataset to match it with training dataset\n",
    "cols = X_pd_train.columns.tolist()\n",
    "X_pd_test = X_pd_test[cols]\n",
    "\n",
    "# scale train dataset\n",
    "scaler = preprocessing.StandardScaler().fit(X_pd_train)\n",
    "X_pd_train_scaled = scaler.transform(X_pd_train)\n",
    "\n",
    "# scale test dataset\n",
    "X_pd_test_scaled = scaler.transform(X_pd_test)\n"
   ]
  },
  {
   "cell_type": "markdown",
   "metadata": {},
   "source": [
    "### Using the training dataset, train 100 L2-regularized linear models corresponding to 100\n",
    "#regularization coefficients evenly spaced between 0.1 and 1000. Use the leave-one-out\n",
    "#cross-validation.\n",
    "step1=(1000-0.1)/(100-1)\n",
    "l2_cv = RidgeCV(alphas=np.arange(0.1,1000,step=step1),cv=None,store_cv_values=True)\n",
    "l2_cv.fit(X_pd_train_scaled, Y_pd_train)\n",
    "\n",
    "#same operaton with L1-regularization\n",
    "l1_cv = LassoCV(alphas=np.arange(0.1,1000,step=step1),cv=None,max_iter=100000)\n",
    "l1_cv.fit(X_pd_train_scaled, Y_pd_train.values.ravel())\n",
    "\n",
    "\n",
    "#Model without regularizaion\n",
    "ols = linear_model.LinearRegression(fit_intercept=True)\n",
    "ols.fit(X_pd_train_scaled,Y_pd_train)\n",
    "print(ols.intercept_)\n",
    "print(ols.coef_)"
   ]
  },
  {
   "cell_type": "code",
   "execution_count": 12,
   "metadata": {},
   "outputs": [
    {
     "name": "stdout",
     "output_type": "stream",
     "text": [
      "original mean of training dataset =\n",
      " attend       39664.803571\n",
      "temp            73.642857\n",
      "Clear            0.803571\n",
      "Cloudy           0.196429\n",
      "APR              0.160714\n",
      "AUG              0.214286\n",
      "JUL              0.089286\n",
      "JUN              0.089286\n",
      "MAY              0.232143\n",
      "OCT              0.017857\n",
      "SEP              0.196429\n",
      "Friday           0.178571\n",
      "Monday           0.142857\n",
      "Saturday         0.160714\n",
      "Sunday           0.196429\n",
      "Thursday         0.089286\n",
      "Tuesday          0.089286\n",
      "Wednesday        0.142857\n",
      "NO               0.910714\n",
      "YES              0.089286\n",
      "dtype: float64\n",
      "original standard deviation of training dataset = \n",
      " attend       7868.654889\n",
      "temp            8.868944\n",
      "Clear           0.397296\n",
      "Cloudy          0.397296\n",
      "APR             0.367267\n",
      "AUG             0.410326\n",
      "JUL             0.285156\n",
      "JUN             0.285156\n",
      "MAY             0.422200\n",
      "OCT             0.132432\n",
      "SEP             0.397296\n",
      "Friday          0.382993\n",
      "Monday          0.349927\n",
      "Saturday        0.367267\n",
      "Sunday          0.397296\n",
      "Thursday        0.285156\n",
      "Tuesday         0.285156\n",
      "Wednesday       0.349927\n",
      "NO              0.285156\n",
      "YES             0.285156\n",
      "dtype: float64\n",
      "original mean of testing dataset =\n",
      " attend       44120.68\n",
      "temp            72.04\n",
      "Clear            0.68\n",
      "Cloudy           0.32\n",
      "APR              0.12\n",
      "AUG              0.12\n",
      "JUL              0.28\n",
      "JUN              0.16\n",
      "MAY              0.20\n",
      "OCT              0.08\n",
      "SEP              0.04\n",
      "Friday           0.12\n",
      "Monday           0.16\n",
      "Saturday         0.16\n",
      "Sunday           0.08\n",
      "Tuesday          0.32\n",
      "Wednesday        0.16\n",
      "NO               0.76\n",
      "YES              0.24\n",
      "dtype: float64\n",
      "original standard deviation of testing dataset = \n",
      " attend       8240.102032\n",
      "temp            6.587746\n",
      "Clear           0.466476\n",
      "Cloudy          0.466476\n",
      "APR             0.324962\n",
      "AUG             0.324962\n",
      "JUL             0.448999\n",
      "JUN             0.366606\n",
      "MAY             0.400000\n",
      "OCT             0.271293\n",
      "SEP             0.195959\n",
      "Friday          0.324962\n",
      "Monday          0.366606\n",
      "Saturday        0.366606\n",
      "Sunday          0.271293\n",
      "Tuesday         0.466476\n",
      "Wednesday       0.366606\n",
      "NO              0.427083\n",
      "YES             0.427083\n",
      "dtype: float64\n"
     ]
    }
   ],
   "source": [
    "#Q1)[10pts] List the means and standard deviations of the encoded attributes before scaling\n",
    "print('original mean of training dataset =\\n', np.mean(pd_train, axis=0))\n",
    "print('original standard deviation of training dataset = \\n', np.std(pd_train, axis=0))\n",
    "\n",
    "print('original mean of testing dataset =\\n', np.mean(pd_test, axis=0))\n",
    "print('original standard deviation of testing dataset = \\n', np.std(pd_test, axis=0))"
   ]
  },
  {
   "cell_type": "code",
   "execution_count": 13,
   "metadata": {},
   "outputs": [
    {
     "name": "stdout",
     "output_type": "stream",
     "text": [
      "For L2 Regularization->\n",
      "alpha =  50.6\n",
      "coef =  [[  515.85380007   271.19412682  -271.19412682  -273.56102806\n",
      "    457.54654532  -216.88248689  1102.57100111  -605.71237164\n",
      "    -75.78927596  -186.41964828    67.69322043  -835.67182144\n",
      "    490.25315842   238.14165655  -341.53918562  1070.28517076\n",
      "   -617.19884398 -1145.58152754  1145.58152754]]\n"
     ]
    }
   ],
   "source": [
    "#[15pts] What is the best L2 regularization coefficient? Provide the corresponding linear\n",
    "#coefficients.\n",
    "print('For L2 Regularization->')\n",
    "l2_alpha=l2_cv.alpha_\n",
    "print('alpha = ', l2_alpha) \n",
    "print('coef = ', l2_cv.coef_)\n"
   ]
  },
  {
   "cell_type": "code",
   "execution_count": 14,
   "metadata": {},
   "outputs": [
    {
     "name": "stdout",
     "output_type": "stream",
     "text": [
      "\n",
      "For L1 Regularization->\n",
      "alpha =  616.2\n",
      "[ 7.86580235e+02  0.00000000e+00 -0.00000000e+00 -0.00000000e+00\n",
      "  6.49813690e+02 -0.00000000e+00  1.78831426e+03 -6.34824198e+01\n",
      " -0.00000000e+00 -0.00000000e+00  0.00000000e+00 -1.02533871e+03\n",
      "  1.26701250e+02  0.00000000e+00 -2.71435063e+02  1.32734869e+03\n",
      " -7.50782105e+02 -2.53047289e+03  3.11826755e-12]\n"
     ]
    }
   ],
   "source": [
    "#What is the best L1 regularization coefficient? Provide the corresponding linear\n",
    "#coefficients\n",
    "print('\\nFor L1 Regularization->')\n",
    "l1_alpha=l1_cv.alpha_\n",
    "print('alpha = ', l1_alpha) \n",
    "coef= l1_cv.coef_\n",
    "print(coef)\n"
   ]
  },
  {
   "cell_type": "code",
   "execution_count": 15,
   "metadata": {},
   "outputs": [
    {
     "name": "stdout",
     "output_type": "stream",
     "text": [
      "Predictive attributes selected as result of L1 regularization:\n",
      " ['temp', 'AUG', 'JUN', 'MAY', 'Monday', 'Saturday', 'Thursday', 'Tuesday', 'Wednesday', 'NO', 'YES']\n"
     ]
    }
   ],
   "source": [
    "#[15pts] What are the predictive attributes selected as a result of L1 regularization?\n",
    "i=0\n",
    "predictive_attributes=[]\n",
    "for x in X_pd_train.columns:\n",
    "    if(coef[i]!=0):\n",
    "        predictive_attributes.append(x)\n",
    "    i=i+1\n",
    "print(\"Predictive attributes selected as result of L1 regularization:\\n\",predictive_attributes)"
   ]
  },
  {
   "cell_type": "code",
   "execution_count": 16,
   "metadata": {},
   "outputs": [
    {
     "name": "stdout",
     "output_type": "stream",
     "text": [
      "L2 Expected prediction RMSE obtained during the cross-validation 6737.660948839507\n",
      "L1 Expected prediction RMSE obtained during the cross-validation 6753.242263861002\n",
      "L2 - RMSE train =  5648.86421638529\n",
      "L2 - RMSE test =  6710.58206628092\n",
      "L1 - RMSE train =  5568.617853858854\n",
      "L1 - RMSE test =  6804.849508052487\n",
      "No regularization - RMSE train =  5254.5387249249425\n",
      "No regularization - RMSE test =  7058.684526782614\n"
     ]
    }
   ],
   "source": [
    "#For the models corresponding to the best L2 and L1 regularization coefficients\n",
    "#list the following root-mean-square-error (RMSE): (1) RMSE on the training set, (2)\n",
    "##expected prediction RMSE obtained during the cross-validation, (3) RMSE on the testing\n",
    "#set. For the linear model without regularization list the following RMSE: (1) RMSE on\n",
    "#the training set, and (2) RMSE on the testing set\n",
    "\n",
    "#expected prediction RMSE obtained during the cross-validation\n",
    "\n",
    "L2_MSE=l2_cv.cv_values_\n",
    "RMSE_mean=np.mean(L2_MSE,axis=0)\n",
    "RMSE_min=np.min(np.sqrt(RMSE_mean))\n",
    "print(\"L2 Expected prediction RMSE obtained during the cross-validation\",RMSE_min)\n",
    "\n",
    "L1_MSE=l1_cv.mse_path_\n",
    "L1_RMSE_mean=np.mean(L1_MSE,axis=1)\n",
    "L1_RMSE_min=np.min(np.sqrt(L1_RMSE_mean))\n",
    "print(\"L1 Expected prediction RMSE obtained during the cross-validation\",L1_RMSE_min)\n",
    "\n",
    "\n",
    "# L2\n",
    "l2_train_pred = l2_cv.predict(X_pd_train_scaled)\n",
    "print('L2 - RMSE train = ', sqrt(mean_squared_error(l2_train_pred,Y_pd_train)))\n",
    "\n",
    "l2_test_pred=l2_cv.predict(X_pd_test_scaled)\n",
    "\n",
    "print('L2 - RMSE test = ', sqrt(mean_squared_error(l2_test_pred,Y_pd_test)))\n",
    "\n",
    "#L1\n",
    "l1_train_pred = l1_cv.predict(X_pd_train_scaled)\n",
    "print('L1 - RMSE train = ', sqrt(mean_squared_error(l1_train_pred,Y_pd_train)))\n",
    "\n",
    "l1_test_pred=l1_cv.predict(X_pd_test_scaled)\n",
    "\n",
    "print('L1 - RMSE test = ', sqrt(mean_squared_error(l1_test_pred,Y_pd_test)))\n",
    "\n",
    "#noreg\n",
    "\n",
    "noreg_train_pred = ols.predict(X_pd_train_scaled)\n",
    "print('No regularization - RMSE train = ', sqrt(mean_squared_error(noreg_train_pred,Y_pd_train)))\n",
    "\n",
    "noreg_test_pred=ols.predict(X_pd_test_scaled)\n",
    "\n",
    "print('No regularization - RMSE test = ', sqrt(mean_squared_error(noreg_test_pred,Y_pd_test)))"
   ]
  },
  {
   "cell_type": "raw",
   "metadata": {},
   "source": [
    "[15pts] What observations can you make based on the above RMSE?\n",
    "\n",
    "The RMSE values is best way to judge a model and determine whether it is overfitting the data or not.\n",
    "\n",
    "From above values we can see that no regularization training RMSE is lowest but testing RMSE is pretty high.\n",
    "This means it is overfitting the data and not generalizing it.\n",
    "\n",
    "If we observe L2 RMSE training value it is slightly higher than L1 but if you see the testing RMSE values and check the difference, L2 model difference is less. This means L2 regularization is best fit model for this data and will give more accurate predications. \n",
    "\n",
    "*when the training error is small and the test error is big, that is an indication of overfitting \n",
    "**the best model which fits will be the one that has the smallest difference between training and testing error  "
   ]
  },
  {
   "cell_type": "code",
   "execution_count": 17,
   "metadata": {},
   "outputs": [
    {
     "name": "stdout",
     "output_type": "stream",
     "text": [
      "L2- with bobblhead: [48673.22150451]\n",
      "L2- without bobblhead: [40638.44252892]\n",
      "L1- with bobblhead: [50416.6365564]\n",
      "L1- without bobblhead: [41542.63245279]\n",
      "No regularization- with bobblhead: [51684.84997165]\n",
      "No regularization- without bobblhead: [41823.22849175]\n"
     ]
    }
   ],
   "source": [
    "#[15pts] Predict the attendance on a clear Monday in June when the expected temperature\n",
    "#is 72 for all three models with and without bobbleheads. Does bobblehead promotion\n",
    "#have an impact on the attendance?\n",
    "#1)With bobblehead\n",
    "with_bobblehead=pd.Series([72,1,0,0,0,0,1,0,0,0,0,1,0,0,0,0,0,0,1])\n",
    "with_bobblehead_scaled=scaler.transform(with_bobblehead.values.reshape(1, -1))\n",
    "#2)Without bobblehead\n",
    "without_bobblehead=pd.Series([72,1,0,0,0,0,1,0,0,0,0,1,0,0,0,0,0,1,0])\n",
    "without_bobblhead_scaled=scaler.transform(without_bobblehead.values.reshape(1, -1))\n",
    "\n",
    "#L2 regularization\n",
    "l2_with_bobblhead_pred = l2_cv.predict(with_bobblehead_scaled)\n",
    "\n",
    "print(\"L2- with bobblhead:\",l2_with_bobblhead_pred[0])\n",
    "\n",
    "l2_without_bobblhead_pred = l2_cv.predict(without_bobblhead_scaled)\n",
    "\n",
    "print(\"L2- without bobblhead:\",l2_without_bobblhead_pred[0])\n",
    "\n",
    "#L1 regularization\n",
    "l1_with_bobblhead_pred = l1_cv.predict(with_bobblehead_scaled)\n",
    "\n",
    "print(\"L1- with bobblhead:\",l1_with_bobblhead_pred)\n",
    "\n",
    "l1_without_bobblhead_pred = l1_cv.predict(without_bobblhead_scaled)\n",
    "\n",
    "print(\"L1- without bobblhead:\",l1_without_bobblhead_pred)\n",
    "\n",
    "#no regularization\n",
    "\n",
    "noreg_with_bobblhead_pred = ols.predict(with_bobblehead_scaled)\n",
    "\n",
    "print(\"No regularization- with bobblhead:\",noreg_with_bobblhead_pred[0])\n",
    "\n",
    "noreg_without_bobblhead_pred = ols.predict(without_bobblhead_scaled)\n",
    "\n",
    "print(\"No regularization- without bobblhead:\",noreg_without_bobblhead_pred[0])"
   ]
  },
  {
   "cell_type": "markdown",
   "metadata": {},
   "source": [
    "Conclusion: Yes bobblehead as impact on attedance of the game as you can see from the prediction result.\n"
   ]
  }
 ],
 "metadata": {
  "kernelspec": {
   "display_name": "Python 3",
   "language": "python",
   "name": "python3"
  },
  "language_info": {
   "codemirror_mode": {
    "name": "ipython",
    "version": 3
   },
   "file_extension": ".py",
   "mimetype": "text/x-python",
   "name": "python",
   "nbconvert_exporter": "python",
   "pygments_lexer": "ipython3",
   "version": "3.7.4"
  }
 },
 "nbformat": 4,
 "nbformat_minor": 4
}
